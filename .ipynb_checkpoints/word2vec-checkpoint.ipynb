{
 "cells": [
  {
   "cell_type": "code",
   "execution_count": 28,
   "metadata": {},
   "outputs": [],
   "source": [
    "import numpy as np\n",
    "import os\n",
    "from collections import defaultdict\n",
    "\n",
    "\n",
    "def rewrite_nbest(mic='ihm', dataset='dev', N=20, file='words'):\n",
    "    path='./../../' + mic + '_' + dataset + '/' + str(N) + 'best'\n",
    "\n",
    "    isExists = os.path.exists(path)\n",
    "\n",
    "    # 判断结果\n",
    "    if not isExists:\n",
    "        os.makedirs(path)\n",
    "\n",
    "    nbest = defaultdict()\n",
    "\n",
    "    with open('./../../' + mic + '_' + dataset + '/' + file, 'r', encoding='utf-8') as f:\n",
    "        for line in f:\n",
    "            line = line.strip()\n",
    "            try:\n",
    "                key, hyp = line.split(' ', 1)\n",
    "            except ValueError:\n",
    "                key = line\n",
    "                hyp = ' '\n",
    "            key = key.rsplit('-', 1)[0]\n",
    "            if key not in nbest:\n",
    "                nbest[key] = [hyp]\n",
    "                pass\n",
    "            else:\n",
    "                nbest[key].append(hyp)\n",
    "                pass\n",
    "            pass\n",
    "        pass\n",
    "\n",
    "\n",
    "    with open('./../../' + mic + '_' + dataset + '/' + str(N) + 'best' + '/' + file, 'w', encoding='utf-8') as f:\n",
    "        for key in nbest.keys():\n",
    "            current_key = '-'.join([key, str(N)])\n",
    "            max_id = len(nbest[key])\n",
    "            if N <= max_id:\n",
    "                f.write('%s %s\\n' % (current_key, nbest[key][N-1]))\n",
    "                pass\n",
    "            else:\n",
    "                f.write('%s %s\\n' % (current_key, nbest[key][-1]))\n",
    "                pass\n",
    "            pass\n",
    "        pass\n",
    "\n",
    "for n in range(20):\n",
    "    rewrite_nbest(mic='ihm', dataset='dev', N=20)"
   ]
  },
  {
   "cell_type": "code",
   "execution_count": null,
   "metadata": {},
   "outputs": [],
   "source": []
  }
 ],
 "metadata": {
  "kernelspec": {
   "display_name": "Python 3",
   "language": "python",
   "name": "python3"
  },
  "language_info": {
   "codemirror_mode": {
    "name": "ipython",
    "version": 3
   },
   "file_extension": ".py",
   "mimetype": "text/x-python",
   "name": "python",
   "nbconvert_exporter": "python",
   "pygments_lexer": "ipython3",
   "version": "3.7.4"
  }
 },
 "nbformat": 4,
 "nbformat_minor": 4
}
